{
 "cells": [
  {
   "cell_type": "code",
   "execution_count": 1,
   "metadata": {},
   "outputs": [],
   "source": [
    "import pandas as pd\n",
    "from sqlalchemy import create_engine"
   ]
  },
  {
   "cell_type": "code",
   "execution_count": 2,
   "metadata": {},
   "outputs": [
    {
     "name": "stdout",
     "output_type": "stream",
     "text": [
      "There's a Total of 17 tables found on the Wikipedia HTML\n"
     ]
    }
   ],
   "source": [
    "#Extract HTML tables into DataFrames\n",
    "html_link = \"https://en.wikipedia.org/wiki/List_of_best-selling_books\"\n",
    "best_selling=pd.read_html(html_link)\n",
    "\n",
    "total_tables_found=len(best_selling)\n",
    "print(f\"There's a Total of {total_tables_found} tables found on the Wikipedia HTML\")"
   ]
  },
  {
   "cell_type": "code",
   "execution_count": 3,
   "metadata": {},
   "outputs": [
    {
     "name": "stdout",
     "output_type": "stream",
     "text": [
      "The useful set of tables range from 1-5\n"
     ]
    }
   ],
   "source": [
    "\n",
    "print(\"The useful set of tables range from 1-5\")"
   ]
  },
  {
   "cell_type": "code",
   "execution_count": 4,
   "metadata": {
    "scrolled": true
   },
   "outputs": [
    {
     "data": {
      "text/html": [
       "<div>\n",
       "<style scoped>\n",
       "    .dataframe tbody tr th:only-of-type {\n",
       "        vertical-align: middle;\n",
       "    }\n",
       "\n",
       "    .dataframe tbody tr th {\n",
       "        vertical-align: top;\n",
       "    }\n",
       "\n",
       "    .dataframe thead th {\n",
       "        text-align: right;\n",
       "    }\n",
       "</style>\n",
       "<table border=\"1\" class=\"dataframe\">\n",
       "  <thead>\n",
       "    <tr style=\"text-align: right;\">\n",
       "      <th></th>\n",
       "      <th>Book</th>\n",
       "      <th>Author(s)</th>\n",
       "      <th>Original language</th>\n",
       "      <th>First published</th>\n",
       "      <th>Approximate sales</th>\n",
       "      <th>Genre</th>\n",
       "    </tr>\n",
       "  </thead>\n",
       "  <tbody>\n",
       "    <tr>\n",
       "      <th>0</th>\n",
       "      <td>A Tale of Two Cities</td>\n",
       "      <td>Charles Dickens</td>\n",
       "      <td>English</td>\n",
       "      <td>1859</td>\n",
       "      <td>200 million[15]</td>\n",
       "      <td>Historical fiction</td>\n",
       "    </tr>\n",
       "    <tr>\n",
       "      <th>1</th>\n",
       "      <td>The Little Prince (Le Petit Prince)</td>\n",
       "      <td>Antoine de Saint-Exupéry</td>\n",
       "      <td>French</td>\n",
       "      <td>1943</td>\n",
       "      <td>150 million[16][17][18][19][20][21]</td>\n",
       "      <td>fantasy (picture book)</td>\n",
       "    </tr>\n",
       "    <tr>\n",
       "      <th>2</th>\n",
       "      <td>Harry Potter and the Philosopher's Stone</td>\n",
       "      <td>J. K. Rowling</td>\n",
       "      <td>English</td>\n",
       "      <td>1997</td>\n",
       "      <td>120 million[9][22]</td>\n",
       "      <td>fantasy, mystery</td>\n",
       "    </tr>\n",
       "    <tr>\n",
       "      <th>3</th>\n",
       "      <td>The Hobbit</td>\n",
       "      <td>J. R. R. Tolkien</td>\n",
       "      <td>English</td>\n",
       "      <td>1937</td>\n",
       "      <td>100+ million [15]</td>\n",
       "      <td>fantasy</td>\n",
       "    </tr>\n",
       "    <tr>\n",
       "      <th>4</th>\n",
       "      <td>And Then There Were None</td>\n",
       "      <td>Agatha Christie</td>\n",
       "      <td>English</td>\n",
       "      <td>1939</td>\n",
       "      <td>100 million[15]</td>\n",
       "      <td>mystery</td>\n",
       "    </tr>\n",
       "    <tr>\n",
       "      <th>...</th>\n",
       "      <td>...</td>\n",
       "      <td>...</td>\n",
       "      <td>...</td>\n",
       "      <td>...</td>\n",
       "      <td>...</td>\n",
       "      <td>...</td>\n",
       "    </tr>\n",
       "    <tr>\n",
       "      <th>160</th>\n",
       "      <td>The Front Runner</td>\n",
       "      <td>Patricia Nell Warren</td>\n",
       "      <td>English</td>\n",
       "      <td>1974</td>\n",
       "      <td>10 million[169]</td>\n",
       "      <td>NaN</td>\n",
       "    </tr>\n",
       "    <tr>\n",
       "      <th>161</th>\n",
       "      <td>The Goal</td>\n",
       "      <td>Eliyahu M. Goldratt</td>\n",
       "      <td>English</td>\n",
       "      <td>1984</td>\n",
       "      <td>10 million[170]</td>\n",
       "      <td>NaN</td>\n",
       "    </tr>\n",
       "    <tr>\n",
       "      <th>162</th>\n",
       "      <td>Fahrenheit 451</td>\n",
       "      <td>Ray Bradbury</td>\n",
       "      <td>English</td>\n",
       "      <td>1953</td>\n",
       "      <td>10 million[171]</td>\n",
       "      <td>NaN</td>\n",
       "    </tr>\n",
       "    <tr>\n",
       "      <th>163</th>\n",
       "      <td>Angela's Ashes</td>\n",
       "      <td>Frank McCourt</td>\n",
       "      <td>English</td>\n",
       "      <td>1996</td>\n",
       "      <td>10 million[172]</td>\n",
       "      <td>NaN</td>\n",
       "    </tr>\n",
       "    <tr>\n",
       "      <th>164</th>\n",
       "      <td>The Story of My Experiments with Truth (સત્યના...</td>\n",
       "      <td>Mohandas Karamchand Gandhi</td>\n",
       "      <td>Gujarati</td>\n",
       "      <td>1925-1929</td>\n",
       "      <td>10 million[173]</td>\n",
       "      <td>NaN</td>\n",
       "    </tr>\n",
       "  </tbody>\n",
       "</table>\n",
       "<p>165 rows × 6 columns</p>\n",
       "</div>"
      ],
      "text/plain": [
       "                                                  Book  \\\n",
       "0                                 A Tale of Two Cities   \n",
       "1                  The Little Prince (Le Petit Prince)   \n",
       "2             Harry Potter and the Philosopher's Stone   \n",
       "3                                           The Hobbit   \n",
       "4                             And Then There Were None   \n",
       "..                                                 ...   \n",
       "160                                   The Front Runner   \n",
       "161                                           The Goal   \n",
       "162                                     Fahrenheit 451   \n",
       "163                                     Angela's Ashes   \n",
       "164  The Story of My Experiments with Truth (સત્યના...   \n",
       "\n",
       "                      Author(s) Original language First published  \\\n",
       "0               Charles Dickens           English            1859   \n",
       "1      Antoine de Saint-Exupéry            French            1943   \n",
       "2                 J. K. Rowling           English            1997   \n",
       "3              J. R. R. Tolkien           English            1937   \n",
       "4               Agatha Christie           English            1939   \n",
       "..                          ...               ...             ...   \n",
       "160        Patricia Nell Warren           English            1974   \n",
       "161         Eliyahu M. Goldratt           English            1984   \n",
       "162                Ray Bradbury           English            1953   \n",
       "163               Frank McCourt           English            1996   \n",
       "164  Mohandas Karamchand Gandhi          Gujarati       1925-1929   \n",
       "\n",
       "                       Approximate sales                   Genre  \n",
       "0                        200 million[15]      Historical fiction  \n",
       "1    150 million[16][17][18][19][20][21]  fantasy (picture book)  \n",
       "2                     120 million[9][22]        fantasy, mystery  \n",
       "3                      100+ million [15]                 fantasy  \n",
       "4                        100 million[15]                 mystery  \n",
       "..                                   ...                     ...  \n",
       "160                      10 million[169]                     NaN  \n",
       "161                      10 million[170]                     NaN  \n",
       "162                      10 million[171]                     NaN  \n",
       "163                      10 million[172]                     NaN  \n",
       "164                      10 million[173]                     NaN  \n",
       "\n",
       "[165 rows x 6 columns]"
      ]
     },
     "execution_count": 4,
     "metadata": {},
     "output_type": "execute_result"
    }
   ],
   "source": [
    "#Loop to retrieve and merge each Table(df)\n",
    "best_selling_df=best_selling[1]\n",
    "\n",
    "for i in range(2,6):\n",
    "    best_selling_df=best_selling_df.append(best_selling[i],ignore_index=True)\n",
    "    \n",
    "best_selling_df\n"
   ]
  },
  {
   "cell_type": "code",
   "execution_count": null,
   "metadata": {},
   "outputs": [],
   "source": []
  },
  {
   "cell_type": "code",
   "execution_count": 5,
   "metadata": {},
   "outputs": [
    {
     "data": {
      "text/html": [
       "<div>\n",
       "<style scoped>\n",
       "    .dataframe tbody tr th:only-of-type {\n",
       "        vertical-align: middle;\n",
       "    }\n",
       "\n",
       "    .dataframe tbody tr th {\n",
       "        vertical-align: top;\n",
       "    }\n",
       "\n",
       "    .dataframe thead th {\n",
       "        text-align: right;\n",
       "    }\n",
       "</style>\n",
       "<table border=\"1\" class=\"dataframe\">\n",
       "  <thead>\n",
       "    <tr style=\"text-align: right;\">\n",
       "      <th></th>\n",
       "      <th>Book</th>\n",
       "      <th>Author(s)</th>\n",
       "      <th>Original language</th>\n",
       "      <th>First published</th>\n",
       "      <th>Approximate sales</th>\n",
       "      <th>Genre</th>\n",
       "    </tr>\n",
       "  </thead>\n",
       "  <tbody>\n",
       "    <tr>\n",
       "      <th>164</th>\n",
       "      <td>The Story of My Experiments with Truth (સત્યના...</td>\n",
       "      <td>Mohandas Karamchand Gandhi</td>\n",
       "      <td>Gujarati</td>\n",
       "      <td>1925-1929</td>\n",
       "      <td>10</td>\n",
       "      <td>NaN</td>\n",
       "    </tr>\n",
       "  </tbody>\n",
       "</table>\n",
       "</div>"
      ],
      "text/plain": [
       "                                                  Book  \\\n",
       "164  The Story of My Experiments with Truth (સત્યના...   \n",
       "\n",
       "                      Author(s) Original language First published  \\\n",
       "164  Mohandas Karamchand Gandhi          Gujarati       1925-1929   \n",
       "\n",
       "    Approximate sales Genre  \n",
       "164                10   NaN  "
      ]
     },
     "execution_count": 5,
     "metadata": {},
     "output_type": "execute_result"
    }
   ],
   "source": [
    "# #Clean Approximate sales\n",
    "best_selling_df['Approximate sales']= best_selling_df['Approximate sales'].str.split(' million').str[0]\n",
    "best_selling_df['Approximate sales']= best_selling_df['Approximate sales'].str.split('–').str[0]\n",
    "best_selling_df['Approximate sales']= best_selling_df['Approximate sales'].str.split('+').str[0]\n",
    "\n",
    "best_selling_df.at[best_selling_df.index[best_selling_df['Approximate sales']=='>80'],['Approximate sales']]= 80\n",
    "\n",
    "best_selling_df"
   ]
  },
  {
   "cell_type": "code",
   "execution_count": 6,
   "metadata": {},
   "outputs": [
    {
     "data": {
      "text/plain": [
       "array(['1859', '1943', '1997', '1937', '1939', '1791', '1950', '1887',\n",
       "       '1881', '2003', '1998', '1999', '2000', '2005', '2007', '1988',\n",
       "       '1951', '1992', '1880', '1984', '1967', '1955', '1946', '1908',\n",
       "       '1877', '1980', '1975', '1972', '1976', '1952', '1902', '1970',\n",
       "       '1969', '1899', '1960', '1979', '1991', '1932', '1869', '1947',\n",
       "       '1977', '2002', '1966', '1925', '1936', '1938', '1949', '2009',\n",
       "       '2008', '1945', '1788', '1934', '1989', '1935', '1993', '2012',\n",
       "       '2010', '1957', '2015', '1929', '1974', '1958', '2004', '1971',\n",
       "       '1986', '1885', '1982', '1813', '1923', '1963', '2006', '1973',\n",
       "       '1965', '1964', '1968', '1981', '1995', '2011', '1994', '1942',\n",
       "       '1985', '2001', '1933', '1962', '1987', '1956', '1948', '1304',\n",
       "       '2018', '1961', '1978', '1953', '1996'], dtype=object)"
      ]
     },
     "execution_count": 6,
     "metadata": {},
     "output_type": "execute_result"
    }
   ],
   "source": [
    "# Cleaning First published\n",
    "best_selling_df['First published']=best_selling_df['First published'].astype('str')\n",
    "best_selling_df.at[best_selling_df.index[best_selling_df['First published'] =='1925-1929'],['First published']]= '1925'\n",
    "\n",
    "\n",
    "best_selling_df['First published'].unique()"
   ]
  },
  {
   "cell_type": "code",
   "execution_count": 7,
   "metadata": {},
   "outputs": [
    {
     "data": {
      "text/html": [
       "<div>\n",
       "<style scoped>\n",
       "    .dataframe tbody tr th:only-of-type {\n",
       "        vertical-align: middle;\n",
       "    }\n",
       "\n",
       "    .dataframe tbody tr th {\n",
       "        vertical-align: top;\n",
       "    }\n",
       "\n",
       "    .dataframe thead th {\n",
       "        text-align: right;\n",
       "    }\n",
       "</style>\n",
       "<table border=\"1\" class=\"dataframe\">\n",
       "  <thead>\n",
       "    <tr style=\"text-align: right;\">\n",
       "      <th></th>\n",
       "      <th>Book</th>\n",
       "      <th>Author(s)</th>\n",
       "      <th>Original language</th>\n",
       "      <th>First published</th>\n",
       "      <th>Approximate sales</th>\n",
       "      <th>Genre</th>\n",
       "    </tr>\n",
       "  </thead>\n",
       "  <tbody>\n",
       "    <tr>\n",
       "      <th>164</th>\n",
       "      <td>The Story of My Experiments with Truth</td>\n",
       "      <td>Mohandas Karamchand Gandhi</td>\n",
       "      <td>Gujarati</td>\n",
       "      <td>1925</td>\n",
       "      <td>10</td>\n",
       "      <td>NaN</td>\n",
       "    </tr>\n",
       "  </tbody>\n",
       "</table>\n",
       "</div>"
      ],
      "text/plain": [
       "                                        Book                   Author(s)  \\\n",
       "164  The Story of My Experiments with Truth   Mohandas Karamchand Gandhi   \n",
       "\n",
       "    Original language First published Approximate sales Genre  \n",
       "164          Gujarati            1925                10   NaN  "
      ]
     },
     "execution_count": 7,
     "metadata": {},
     "output_type": "execute_result"
    }
   ],
   "source": [
    "#Fix Book names where there are two titles(English and Original language)\n",
    "best_selling_df['Book']= best_selling_df['Book'].str.split('(').str[0]\n",
    "best_selling_df"
   ]
  },
  {
   "cell_type": "code",
   "execution_count": 8,
   "metadata": {},
   "outputs": [],
   "source": [
    "#Fix Author \"E.B. White; illustrated by Garth Williams\"\n",
    "best_selling_df.at[best_selling_df.index[best_selling_df['Author(s)'] =='E.B. White; illustrated by Garth Williams'],['Author(s)']]= 'E.B. White'"
   ]
  },
  {
   "cell_type": "code",
   "execution_count": 9,
   "metadata": {
    "scrolled": false
   },
   "outputs": [
    {
     "data": {
      "text/plain": [
       "array(['English', 'French', 'Chinese', 'Italian', 'Portuguese', 'Spanish',\n",
       "       'Swiss German', 'Norwegian', 'Russian', 'Dutch', 'Swedish',\n",
       "       'Japanese', 'Hindi', 'German', 'Czech', 'Yiddish', 'Gujarati'],\n",
       "      dtype=object)"
      ]
     },
     "execution_count": 9,
     "metadata": {},
     "output_type": "execute_result"
    }
   ],
   "source": [
    "# Check for repeatedness on Languages\n",
    "best_selling_df['Original language'].unique()"
   ]
  },
  {
   "cell_type": "code",
   "execution_count": 10,
   "metadata": {},
   "outputs": [
    {
     "data": {
      "text/plain": [
       "array(['English', 'French', 'Chinese', 'Italian', 'Portuguese', 'Spanish',\n",
       "       'German', 'Norwegian', 'Russian', 'Dutch', 'Swedish', 'Japanese',\n",
       "       'Hindi', 'Czech', 'Yiddish', 'Gujarati'], dtype=object)"
      ]
     },
     "execution_count": 10,
     "metadata": {},
     "output_type": "execute_result"
    }
   ],
   "source": [
    "#Change Swiss German language to German\n",
    "best_selling_df.at[best_selling_df.index[best_selling_df['Original language'] =='Swiss German'],['Original language']]= 'German'\n",
    "best_selling_df['Original language'].unique()\n"
   ]
  },
  {
   "cell_type": "code",
   "execution_count": 11,
   "metadata": {
    "scrolled": true
   },
   "outputs": [],
   "source": [
    "# Change column names to match SQL column titles\n",
    "best_selling_df=best_selling_df.rename(columns={'Book':'title',\n",
    "                               'Author(s)':'authors',\n",
    "                               'Original language':'language_code',\n",
    "                               'First published':'first published',\n",
    "                               'Approximate sales':'approximate sales',\n",
    "                               'Genre':'genre'})\n",
    "\n"
   ]
  },
  {
   "cell_type": "code",
   "execution_count": 12,
   "metadata": {
    "scrolled": true
   },
   "outputs": [
    {
     "name": "stdout",
     "output_type": "stream",
     "text": [
      "Empty DataFrame\n",
      "Columns: [title, authors, language_code, first published, approximate sales, genre]\n",
      "Index: []\n"
     ]
    }
   ],
   "source": [
    "# Check for duplicates on Book titles\n",
    "duplicated_books=best_selling_df[best_selling_df.duplicated(['title'])]\n",
    "print(duplicated_books)"
   ]
  },
  {
   "cell_type": "code",
   "execution_count": 13,
   "metadata": {},
   "outputs": [
    {
     "ename": "PermissionError",
     "evalue": "[Errno 13] Permission denied: 'best_selling_books.csv'",
     "output_type": "error",
     "traceback": [
      "\u001b[1;31m---------------------------------------------------------------------------\u001b[0m",
      "\u001b[1;31mPermissionError\u001b[0m                           Traceback (most recent call last)",
      "\u001b[1;32m<ipython-input-13-16468ce3f760>\u001b[0m in \u001b[0;36m<module>\u001b[1;34m\u001b[0m\n\u001b[0;32m      1\u001b[0m \u001b[1;31m# Export to csv\u001b[0m\u001b[1;33m\u001b[0m\u001b[1;33m\u001b[0m\u001b[1;33m\u001b[0m\u001b[0m\n\u001b[1;32m----> 2\u001b[1;33m \u001b[0mbest_selling_df\u001b[0m\u001b[1;33m.\u001b[0m\u001b[0mto_csv\u001b[0m\u001b[1;33m(\u001b[0m\u001b[1;34m'best_selling_books.csv'\u001b[0m\u001b[1;33m)\u001b[0m\u001b[1;33m\u001b[0m\u001b[1;33m\u001b[0m\u001b[0m\n\u001b[0m",
      "\u001b[1;32m~\\anaconda3\\envs\\DATAVIZ\\lib\\site-packages\\pandas\\core\\generic.py\u001b[0m in \u001b[0;36mto_csv\u001b[1;34m(self, path_or_buf, sep, na_rep, float_format, columns, header, index, index_label, mode, encoding, compression, quoting, quotechar, line_terminator, chunksize, date_format, doublequote, escapechar, decimal)\u001b[0m\n\u001b[0;32m   3202\u001b[0m             \u001b[0mdecimal\u001b[0m\u001b[1;33m=\u001b[0m\u001b[0mdecimal\u001b[0m\u001b[1;33m,\u001b[0m\u001b[1;33m\u001b[0m\u001b[1;33m\u001b[0m\u001b[0m\n\u001b[0;32m   3203\u001b[0m         )\n\u001b[1;32m-> 3204\u001b[1;33m         \u001b[0mformatter\u001b[0m\u001b[1;33m.\u001b[0m\u001b[0msave\u001b[0m\u001b[1;33m(\u001b[0m\u001b[1;33m)\u001b[0m\u001b[1;33m\u001b[0m\u001b[1;33m\u001b[0m\u001b[0m\n\u001b[0m\u001b[0;32m   3205\u001b[0m \u001b[1;33m\u001b[0m\u001b[0m\n\u001b[0;32m   3206\u001b[0m         \u001b[1;32mif\u001b[0m \u001b[0mpath_or_buf\u001b[0m \u001b[1;32mis\u001b[0m \u001b[1;32mNone\u001b[0m\u001b[1;33m:\u001b[0m\u001b[1;33m\u001b[0m\u001b[1;33m\u001b[0m\u001b[0m\n",
      "\u001b[1;32m~\\anaconda3\\envs\\DATAVIZ\\lib\\site-packages\\pandas\\io\\formats\\csvs.py\u001b[0m in \u001b[0;36msave\u001b[1;34m(self)\u001b[0m\n\u001b[0;32m    182\u001b[0m             \u001b[0mclose\u001b[0m \u001b[1;33m=\u001b[0m \u001b[1;32mFalse\u001b[0m\u001b[1;33m\u001b[0m\u001b[1;33m\u001b[0m\u001b[0m\n\u001b[0;32m    183\u001b[0m         \u001b[1;32melse\u001b[0m\u001b[1;33m:\u001b[0m\u001b[1;33m\u001b[0m\u001b[1;33m\u001b[0m\u001b[0m\n\u001b[1;32m--> 184\u001b[1;33m             f, handles = get_handle(\n\u001b[0m\u001b[0;32m    185\u001b[0m                 \u001b[0mself\u001b[0m\u001b[1;33m.\u001b[0m\u001b[0mpath_or_buf\u001b[0m\u001b[1;33m,\u001b[0m\u001b[1;33m\u001b[0m\u001b[1;33m\u001b[0m\u001b[0m\n\u001b[0;32m    186\u001b[0m                 \u001b[0mself\u001b[0m\u001b[1;33m.\u001b[0m\u001b[0mmode\u001b[0m\u001b[1;33m,\u001b[0m\u001b[1;33m\u001b[0m\u001b[1;33m\u001b[0m\u001b[0m\n",
      "\u001b[1;32m~\\anaconda3\\envs\\DATAVIZ\\lib\\site-packages\\pandas\\io\\common.py\u001b[0m in \u001b[0;36mget_handle\u001b[1;34m(path_or_buf, mode, encoding, compression, memory_map, is_text)\u001b[0m\n\u001b[0;32m    426\u001b[0m         \u001b[1;32mif\u001b[0m \u001b[0mencoding\u001b[0m\u001b[1;33m:\u001b[0m\u001b[1;33m\u001b[0m\u001b[1;33m\u001b[0m\u001b[0m\n\u001b[0;32m    427\u001b[0m             \u001b[1;31m# Encoding\u001b[0m\u001b[1;33m\u001b[0m\u001b[1;33m\u001b[0m\u001b[1;33m\u001b[0m\u001b[0m\n\u001b[1;32m--> 428\u001b[1;33m             \u001b[0mf\u001b[0m \u001b[1;33m=\u001b[0m \u001b[0mopen\u001b[0m\u001b[1;33m(\u001b[0m\u001b[0mpath_or_buf\u001b[0m\u001b[1;33m,\u001b[0m \u001b[0mmode\u001b[0m\u001b[1;33m,\u001b[0m \u001b[0mencoding\u001b[0m\u001b[1;33m=\u001b[0m\u001b[0mencoding\u001b[0m\u001b[1;33m,\u001b[0m \u001b[0mnewline\u001b[0m\u001b[1;33m=\u001b[0m\u001b[1;34m\"\"\u001b[0m\u001b[1;33m)\u001b[0m\u001b[1;33m\u001b[0m\u001b[1;33m\u001b[0m\u001b[0m\n\u001b[0m\u001b[0;32m    429\u001b[0m         \u001b[1;32melif\u001b[0m \u001b[0mis_text\u001b[0m\u001b[1;33m:\u001b[0m\u001b[1;33m\u001b[0m\u001b[1;33m\u001b[0m\u001b[0m\n\u001b[0;32m    430\u001b[0m             \u001b[1;31m# No explicit encoding\u001b[0m\u001b[1;33m\u001b[0m\u001b[1;33m\u001b[0m\u001b[1;33m\u001b[0m\u001b[0m\n",
      "\u001b[1;31mPermissionError\u001b[0m: [Errno 13] Permission denied: 'best_selling_books.csv'"
     ]
    }
   ],
   "source": [
    "# Export to csv\n",
    "best_selling_df.to_csv('best_selling_books.csv')"
   ]
  }
 ],
 "metadata": {
  "kernelspec": {
   "display_name": "Python [conda env:DATAVIZ] *",
   "language": "python",
   "name": "conda-env-DATAVIZ-py"
  },
  "language_info": {
   "codemirror_mode": {
    "name": "ipython",
    "version": 3
   },
   "file_extension": ".py",
   "mimetype": "text/x-python",
   "name": "python",
   "nbconvert_exporter": "python",
   "pygments_lexer": "ipython3",
   "version": "3.8.2"
  }
 },
 "nbformat": 4,
 "nbformat_minor": 4
}
